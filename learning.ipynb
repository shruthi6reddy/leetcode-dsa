{
 "cells": [
  {
   "cell_type": "markdown",
   "metadata": {},
   "source": [
    "### Baseball Game ###"
   ]
  },
  {
   "cell_type": "code",
   "execution_count": 10,
   "metadata": {},
   "outputs": [
    {
     "data": {
      "text/plain": [
       "30"
      ]
     },
     "execution_count": 10,
     "metadata": {},
     "output_type": "execute_result"
    }
   ],
   "source": [
    "def calPoints(operations) -> int:\n",
    "    points = []\n",
    "    res = 0\n",
    "    for i in operations:\n",
    "        if i == \"C\":\n",
    "            res -= points.pop()\n",
    "        elif i == \"D\":\n",
    "            point_double = 2 * points[-1]\n",
    "            points.append(point_double)\n",
    "            res += point_double\n",
    "        elif i == \"+\":\n",
    "            add_point = points[-1] + points[-2]\n",
    "            points.append(add_point)\n",
    "            res += add_point\n",
    "        else:\n",
    "            points.append(int(i))\n",
    "            res += int(i)\n",
    "    return res\n",
    "\n",
    "calPoints([\"5\",\"2\",\"C\",\"D\",\"+\"])"
   ]
  },
  {
   "cell_type": "markdown",
   "metadata": {},
   "source": [
    "### Valid Parentheses ###"
   ]
  },
  {
   "cell_type": "code",
   "execution_count": 29,
   "metadata": {},
   "outputs": [
    {
     "data": {
      "text/plain": [
       "False"
      ]
     },
     "execution_count": 29,
     "metadata": {},
     "output_type": "execute_result"
    }
   ],
   "source": [
    "def isValid(s: str) -> bool:\n",
    "    mapping = {\")\": \"(\", \"}\" : \"{\", \"]\": \"[\" }\n",
    "    check = []\n",
    "\n",
    "    if s[0] in mapping.keys():\n",
    "        return False\n",
    "    else:\n",
    "        check.append(s[0])\n",
    "\n",
    "    for i in s[1:]:\n",
    "        if i in mapping.keys() and check:\n",
    "            if check[-1] == mapping[i]:\n",
    "                check.pop()\n",
    "            else:\n",
    "                return False\n",
    "        else:\n",
    "            check.append(i)\n",
    "\n",
    "    return not check\n",
    "\n",
    "s = \"}]{\"\n",
    "isValid(s)"
   ]
  },
  {
   "cell_type": "markdown",
   "metadata": {},
   "source": [
    "### Min Stack ###"
   ]
  },
  {
   "cell_type": "code",
   "execution_count": 30,
   "metadata": {},
   "outputs": [
    {
     "name": "stdout",
     "output_type": "stream",
     "text": [
      "1\n"
     ]
    }
   ],
   "source": [
    "class MinStack:\n",
    "\n",
    "    def __init__(self):\n",
    "        self.stack = []\n",
    "        self.min_stack = []\n",
    "\n",
    "    def push(self, val: int) -> None:\n",
    "        self.stack.append(val)\n",
    "        if self.min_stack:\n",
    "            val = min(self.min_stack[-1], val)\n",
    "        self.min_stack.append(val)          # storing the min value multiple times : refer to neetcode timing 4:00\n",
    "\n",
    "\n",
    "    def pop(self) -> None:\n",
    "        self.stack.pop()\n",
    "        self.min_stack.pop()\n",
    "\n",
    "    def top(self) -> int:\n",
    "        return self.stack[-1]\n",
    "\n",
    "    def getMin(self) -> int:\n",
    "        return self.min_stack[-1]\n",
    "        \n",
    "\n",
    "\n",
    "# Your MinStack object will be instantiated and called as such:\n",
    "# obj = MinStack()\n",
    "# obj.push(val)\n",
    "# obj.pop()\n",
    "# param_3 = obj.top()\n",
    "# param_4 = obj.getMin()"
   ]
  },
  {
   "cell_type": "markdown",
   "metadata": {},
   "source": [
    "## Linked Lists ##"
   ]
  },
  {
   "cell_type": "code",
   "execution_count": 39,
   "metadata": {},
   "outputs": [
    {
     "ename": "AttributeError",
     "evalue": "'NoneType' object has no attribute 'val'",
     "output_type": "error",
     "traceback": [
      "\u001b[0;31m---------------------------------------------------------------------------\u001b[0m",
      "\u001b[0;31mAttributeError\u001b[0m                            Traceback (most recent call last)",
      "\u001b[0;32m/var/folders/w2/mrhgz0sn38gb40d1fxhdxnvh0000gn/T/ipykernel_61391/4142028737.py\u001b[0m in \u001b[0;36m<module>\u001b[0;34m\u001b[0m\n\u001b[1;32m     14\u001b[0m \u001b[0;32mwhile\u001b[0m \u001b[0mcur\u001b[0m\u001b[0;34m:\u001b[0m\u001b[0;34m\u001b[0m\u001b[0;34m\u001b[0m\u001b[0m\n\u001b[1;32m     15\u001b[0m     \u001b[0mcur\u001b[0m \u001b[0;34m=\u001b[0m \u001b[0mcur\u001b[0m\u001b[0;34m.\u001b[0m\u001b[0mnext\u001b[0m\u001b[0;34m\u001b[0m\u001b[0;34m\u001b[0m\u001b[0m\n\u001b[0;32m---> 16\u001b[0;31m \u001b[0mprint\u001b[0m\u001b[0;34m(\u001b[0m\u001b[0mcur\u001b[0m\u001b[0;34m.\u001b[0m\u001b[0mval\u001b[0m\u001b[0;34m)\u001b[0m\u001b[0;34m\u001b[0m\u001b[0;34m\u001b[0m\u001b[0m\n\u001b[0m\u001b[1;32m     17\u001b[0m \u001b[0;34m\u001b[0m\u001b[0m\n\u001b[1;32m     18\u001b[0m \u001b[0;34m\u001b[0m\u001b[0m\n",
      "\u001b[0;31mAttributeError\u001b[0m: 'NoneType' object has no attribute 'val'"
     ]
    }
   ],
   "source": [
    "class ListNode:\n",
    "    def __init__(self, val):\n",
    "        self.val = val\n",
    "        self.next = None\n",
    "\n",
    "ListNode1 = ListNode(\"red\")\n",
    "ListNode2 = ListNode(\"blue\")\n",
    "ListNode3 = ListNode(\"green\")\n",
    "ListNode1.next = ListNode2\n",
    "ListNode2.next = ListNode3\n",
    "ListNode3.next = None\n",
    "\n",
    "cur = ListNode1\n",
    "while cur:\n",
    "    cur = cur.next\n",
    "print(cur.val)\n",
    "\n",
    "#adding\n",
    "ListNode4 = ListNode(\"purple\")\n",
    "tail = ListNode3\n",
    "tail.next = ListNode4\n",
    "tail = tail.next # or tail = ListNode4, we are reinitalizing the tail to the last element which is ListNode4\n",
    "\n",
    "\n",
    "# deleting \n",
    "\n",
    "head = ListNode1\n",
    "head.next = head.next.next # removing the link between ListNode1 and ListNode2, ListNode1 is now linked to ListNode3\n"
   ]
  },
  {
   "cell_type": "code",
   "execution_count": null,
   "metadata": {},
   "outputs": [],
   "source": [
    "class ListNode:\n",
    "    def __init__(self, val):\n",
    "        self.val = val\n",
    "        self.next = None\n",
    "\n",
    "class LinkedList:\n",
    "    def __init__(self):\n",
    "        self.head = ListNode(-1) # dummy variable, removing node fron beginning will be easier \n",
    "        self.tail = self.head # initially they are both same when only one element present(dummy element)\n",
    "    \n",
    "    def insertEnd(self, val):\n",
    "        self.tail.next = ListNode(val)\n",
    "        self.tail = self.tail.next\n",
    "    \n",
    "    def remove(self, index):\n",
    "        i = 0 \n",
    "        curr = self.head \n",
    "\n",
    "        while i < index and curr:   #trying to find the element that is before the index we want to remove\n",
    "            i+=1 \n",
    "            curr = curr.next    \n",
    "        \n",
    "        if curr and curr.next:\n",
    "            if curr.next == self.tail #if it is the last element in linkedlist\n",
    "                self.tail = curr # change the tail to element before it\n",
    "            curr.next = curr.next.next\n",
    "    \n",
    "    def print(self):\n",
    "        curr = self.head.next # since our initial head is a dummy variable of -1\n",
    "        while curr:\n",
    "            print(curr.val, \" -> \", end=\"\")\n",
    "            curr = curr.next\n",
    "        print()\n"
   ]
  }
 ],
 "metadata": {
  "kernelspec": {
   "display_name": "Python 3",
   "language": "python",
   "name": "python3"
  },
  "language_info": {
   "codemirror_mode": {
    "name": "ipython",
    "version": 3
   },
   "file_extension": ".py",
   "mimetype": "text/x-python",
   "name": "python",
   "nbconvert_exporter": "python",
   "pygments_lexer": "ipython3",
   "version": "3.9.4"
  }
 },
 "nbformat": 4,
 "nbformat_minor": 2
}
